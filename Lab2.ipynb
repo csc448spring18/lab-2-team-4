{
 "cells": [
  {
   "cell_type": "code",
   "execution_count": 64,
   "metadata": {},
   "outputs": [
    {
     "name": "stdout",
     "output_type": "stream",
     "text": [
      "Requirement already satisfied: pandas in /srv/venv/lib/python3.6/site-packages\n",
      "Requirement already satisfied: pytz>=2011k in /srv/venv/lib/python3.6/site-packages (from pandas)\n",
      "Requirement already satisfied: python-dateutil>=2 in /srv/venv/lib/python3.6/site-packages (from pandas)\n",
      "Requirement already satisfied: numpy>=1.9.0 in /srv/venv/lib/python3.6/site-packages (from pandas)\n",
      "Requirement already satisfied: six>=1.5 in /srv/venv/lib/python3.6/site-packages (from python-dateutil>=2->pandas)\n",
      "Requirement already satisfied: matplotlib in /srv/venv/lib/python3.6/site-packages\n",
      "Requirement already satisfied: pytz in /srv/venv/lib/python3.6/site-packages (from matplotlib)\n",
      "Requirement already satisfied: numpy>=1.7.1 in /srv/venv/lib/python3.6/site-packages (from matplotlib)\n",
      "Requirement already satisfied: cycler>=0.10 in /srv/venv/lib/python3.6/site-packages (from matplotlib)\n",
      "Requirement already satisfied: six>=1.10 in /srv/venv/lib/python3.6/site-packages (from matplotlib)\n",
      "Requirement already satisfied: python-dateutil>=2.1 in /srv/venv/lib/python3.6/site-packages (from matplotlib)\n",
      "Requirement already satisfied: kiwisolver>=1.0.1 in /srv/venv/lib/python3.6/site-packages (from matplotlib)\n",
      "Requirement already satisfied: pyparsing!=2.0.4,!=2.1.2,!=2.1.6,>=2.0.1 in /srv/venv/lib/python3.6/site-packages (from matplotlib)\n",
      "Requirement already satisfied: setuptools in /srv/venv/lib/python3.6/site-packages (from kiwisolver>=1.0.1->matplotlib)\n"
     ]
    }
   ],
   "source": [
    "!pip install pandas\n",
    "!pip install matplotlib"
   ]
  },
  {
   "cell_type": "code",
   "execution_count": 65,
   "metadata": {},
   "outputs": [],
   "source": [
    "%matplotlib inline\n",
    "import pandas as pd"
   ]
  },
  {
   "cell_type": "code",
   "execution_count": 66,
   "metadata": {},
   "outputs": [
    {
     "name": "stdout",
     "output_type": "stream",
     "text": [
      ">dm3gene_dna range=contig1:1-11000 5'pad=0 3'pad=0 strand=+ repeatMasking=none\n",
      "\n"
     ]
    }
   ],
   "source": [
    "# df = pd.read_csv(\"bio/DNA.txt\", index_col=False, header=0)\n",
    "seq = \"\"\n",
    "with open(\"data/DNA.txt\") as file:\n",
    "    for line in file:\n",
    "        if line[0] is '>':\n",
    "            print(line)\n",
    "        else:\n",
    "            seq = line.upper()"
   ]
  },
  {
   "cell_type": "code",
   "execution_count": 67,
   "metadata": {},
   "outputs": [],
   "source": [
    "# create a row from each entry in dictionary\n",
    "d = {\n",
    "    'A': [],\n",
    "    'C': [],\n",
    "    'G': [],\n",
    "    'T': [],\n",
    "    'N': [],\n",
    "}\n",
    "\n",
    "for s in seq:\n",
    "    d[s].append(1)\n",
    "    for k in d.keys():\n",
    "        if k is not s:\n",
    "            d[k].append(0)"
   ]
  },
  {
   "cell_type": "code",
   "execution_count": 68,
   "metadata": {},
   "outputs": [
    {
     "data": {
      "text/plain": [
       "55305"
      ]
     },
     "execution_count": 68,
     "metadata": {},
     "output_type": "execute_result"
    }
   ],
   "source": [
    "df = pd.DataFrame(d)\n",
    "df.head()\n",
    "df.size"
   ]
  },
  {
   "cell_type": "code",
   "execution_count": 73,
   "metadata": {},
   "outputs": [
    {
     "name": "stdout",
     "output_type": "stream",
     "text": [
      "GC content of this sequence is:  0.47825693879396075\n",
      "Total unknown of this sequence is:  0.005514872073049453\n"
     ]
    }
   ],
   "source": [
    "total_gc = df.C.mean() + df.G.mean()\n",
    "print(\"GC content of this sequence is: \", total_gc)\n",
    "print(\"Total unknown of this sequence is: \", df.N.mean())\n",
    "# I verified this here https://www.sciencebuddies.org/science-fair-projects/references/genomics-g-c-content-calculator"
   ]
  },
  {
   "cell_type": "code",
   "execution_count": 70,
   "metadata": {},
   "outputs": [],
   "source": [
    "s = int(df.shape[0])\n",
    "window_size = int(s / 20)\n",
    "\n",
    "def get_averages(offset=0, print_me=False):\n",
    "    rolling_avg = []\n",
    "    window = []\n",
    "    for i in range(offset, s, window_size):\n",
    "        gc = df.iloc[i : i + window_size].G.mean() + df.iloc[i : i + window_size].C.mean()\n",
    "        if print_me:\n",
    "            print(\"window: \", i, i + window_size, \"\\t the gc content is: \", gc, \"unknown: \", df.iloc[i : i + window_size].N.mean())\n",
    "        rolling_avg.append(gc)\n",
    "        window.append((i, i+window_size))\n",
    "    return rolling_avg, window"
   ]
  },
  {
   "cell_type": "code",
   "execution_count": 71,
   "metadata": {},
   "outputs": [],
   "source": [
    "# rolling_avg0, window0 = get_averages()\n",
    "# rolling_avg1, window1 = get_averages(offset=int(s/66.6)) # approximately 1.5%"
   ]
  },
  {
   "cell_type": "code",
   "execution_count": 72,
   "metadata": {},
   "outputs": [
    {
     "name": "stdout",
     "output_type": "stream",
     "text": [
      "window:  0 553 \t the gc content is:  0.4647377938517179 unknown:  0.0\n",
      "window:  553 1106 \t the gc content is:  0.4701627486437613 unknown:  0.03616636528028933\n",
      "window:  1106 1659 \t the gc content is:  0.4412296564195298 unknown:  0.0\n",
      "window:  1659 2212 \t the gc content is:  0.5027124773960217 unknown:  0.0379746835443038\n",
      "window:  2212 2765 \t the gc content is:  0.488245931283906 unknown:  0.0\n",
      "window:  2765 3318 \t the gc content is:  0.3707052441229657 unknown:  0.0\n",
      "window:  3318 3871 \t the gc content is:  0.488245931283906 unknown:  0.0\n",
      "window:  3871 4424 \t the gc content is:  0.4755877034358047 unknown:  0.03616636528028933\n",
      "window:  4424 4977 \t the gc content is:  0.5027124773960217 unknown:  0.0\n",
      "window:  4977 5530 \t the gc content is:  0.325497287522604 unknown:  0.0\n",
      "window:  5530 6083 \t the gc content is:  0.39059674502712477 unknown:  0.0\n",
      "window:  6083 6636 \t the gc content is:  0.5786618444846293 unknown:  0.0\n",
      "window:  6636 7189 \t the gc content is:  0.5063291139240507 unknown:  0.0\n",
      "window:  7189 7742 \t the gc content is:  0.5515370705244123 unknown:  0.0\n",
      "window:  7742 8295 \t the gc content is:  0.5623869801084991 unknown:  0.0\n",
      "window:  8295 8848 \t the gc content is:  0.5714285714285714 unknown:  0.0\n",
      "window:  8848 9401 \t the gc content is:  0.5515370705244123 unknown:  0.0\n",
      "window:  9401 9954 \t the gc content is:  0.40867992766726946 unknown:  0.0\n",
      "window:  9954 10507 \t the gc content is:  0.49909584086799275 unknown:  0.0\n",
      "window:  10507 11060 \t the gc content is:  0.41591320072332727 unknown:  0.0\n",
      "window:  11060 11613 \t the gc content is:  0.0 unknown:  0.0\n",
      "window:  166 719 \t the gc content is:  0.4104882459312839 unknown:  0.03616636528028933\n",
      "window:  719 1272 \t the gc content is:  0.4864376130198915 unknown:  0.0\n",
      "window:  1272 1825 \t the gc content is:  0.4701627486437613 unknown:  0.0\n",
      "window:  1825 2378 \t the gc content is:  0.4972875226039783 unknown:  0.0379746835443038\n",
      "window:  2378 2931 \t the gc content is:  0.4701627486437613 unknown:  0.0\n",
      "window:  2931 3484 \t the gc content is:  0.37251356238698013 unknown:  0.0\n",
      "window:  3484 4037 \t the gc content is:  0.49728752260397835 unknown:  0.0\n",
      "window:  4037 4590 \t the gc content is:  0.5045207956600362 unknown:  0.03616636528028933\n",
      "window:  4590 5143 \t the gc content is:  0.37613019891500904 unknown:  0.0\n",
      "window:  5143 5696 \t the gc content is:  0.4141048824593129 unknown:  0.0\n",
      "window:  5696 6249 \t the gc content is:  0.4448462929475588 unknown:  0.0\n",
      "window:  6249 6802 \t the gc content is:  0.5732368896925859 unknown:  0.0\n",
      "window:  6802 7355 \t the gc content is:  0.4864376130198915 unknown:  0.0\n",
      "window:  7355 7908 \t the gc content is:  0.5623869801084991 unknown:  0.0\n",
      "window:  7908 8461 \t the gc content is:  0.5732368896925859 unknown:  0.0\n",
      "window:  8461 9014 \t the gc content is:  0.5641952983725136 unknown:  0.0\n",
      "window:  9014 9567 \t the gc content is:  0.5406871609403254 unknown:  0.0\n",
      "window:  9567 10120 \t the gc content is:  0.3707052441229657 unknown:  0.0\n",
      "window:  10120 10673 \t the gc content is:  0.5081374321880651 unknown:  0.0\n",
      "window:  10673 11226 \t the gc content is:  0.4072164948453608 unknown:  0.0\n",
      "window:  332 885 \t the gc content is:  0.3924050632911392 unknown:  0.03616636528028933\n",
      "window:  885 1438 \t the gc content is:  0.4810126582278481 unknown:  0.0\n",
      "window:  1438 1991 \t the gc content is:  0.49547920433996384 unknown:  0.0\n",
      "window:  1991 2544 \t the gc content is:  0.4773960216998192 unknown:  0.0379746835443038\n",
      "window:  2544 3097 \t the gc content is:  0.4213381555153707 unknown:  0.0\n",
      "window:  3097 3650 \t the gc content is:  0.4195298372513563 unknown:  0.0\n",
      "window:  3650 4203 \t the gc content is:  0.47739602169981915 unknown:  0.03616636528028933\n",
      "window:  4203 4756 \t the gc content is:  0.5171790235081375 unknown:  0.0\n",
      "window:  4756 5309 \t the gc content is:  0.321880650994575 unknown:  0.0\n",
      "window:  5309 5862 \t the gc content is:  0.40144665461121154 unknown:  0.0\n",
      "window:  5862 6415 \t the gc content is:  0.538878842676311 unknown:  0.0\n",
      "window:  6415 6968 \t the gc content is:  0.5352622061482821 unknown:  0.0\n",
      "window:  6968 7521 \t the gc content is:  0.511754068716094 unknown:  0.0\n",
      "window:  7521 8074 \t the gc content is:  0.5822784810126582 unknown:  0.0\n",
      "window:  8074 8627 \t the gc content is:  0.5750452079566004 unknown:  0.0\n",
      "window:  8627 9180 \t the gc content is:  0.538878842676311 unknown:  0.0\n",
      "window:  9180 9733 \t the gc content is:  0.484629294755877 unknown:  0.0\n",
      "window:  9733 10286 \t the gc content is:  0.4285714285714286 unknown:  0.0\n",
      "window:  10286 10839 \t the gc content is:  0.515370705244123 unknown:  0.0\n",
      "window:  10839 11392 \t the gc content is:  0.3063063063063063 unknown:  0.0\n",
      "window:  498 1051 \t the gc content is:  0.45750452079566006 unknown:  0.03616636528028933\n",
      "window:  1051 1604 \t the gc content is:  0.45027124773960214 unknown:  0.0\n",
      "window:  1604 2157 \t the gc content is:  0.4972875226039783 unknown:  0.0379746835443038\n",
      "window:  2157 2710 \t the gc content is:  0.49728752260397824 unknown:  0.0\n",
      "window:  2710 3263 \t the gc content is:  0.3707052441229656 unknown:  0.0\n",
      "window:  3263 3816 \t the gc content is:  0.484629294755877 unknown:  0.0\n",
      "window:  3816 4369 \t the gc content is:  0.46835443037974683 unknown:  0.03616636528028933\n",
      "window:  4369 4922 \t the gc content is:  0.5207956600361663 unknown:  0.0\n",
      "window:  4922 5475 \t the gc content is:  0.31464737793851716 unknown:  0.0\n",
      "window:  5475 6028 \t the gc content is:  0.3869801084990958 unknown:  0.0\n",
      "window:  6028 6581 \t the gc content is:  0.5750452079566004 unknown:  0.0\n",
      "window:  6581 7134 \t the gc content is:  0.5135623869801085 unknown:  0.0\n",
      "window:  7134 7687 \t the gc content is:  0.5406871609403254 unknown:  0.0\n",
      "window:  7687 8240 \t the gc content is:  0.5660036166365281 unknown:  0.0\n",
      "window:  8240 8793 \t the gc content is:  0.5732368896925859 unknown:  0.0\n",
      "window:  8793 9346 \t the gc content is:  0.5443037974683544 unknown:  0.0\n",
      "window:  9346 9899 \t the gc content is:  0.41952983725135623 unknown:  0.0\n",
      "window:  9899 10452 \t the gc content is:  0.49005424954792043 unknown:  0.0\n",
      "window:  10452 11005 \t the gc content is:  0.4376130198915009 unknown:  0.0\n",
      "window:  11005 11558 \t the gc content is:  0.3214285714285714 unknown:  0.0\n"
     ]
    },
    {
     "data": {
      "image/png": "[encoded data removed]",
      "text/plain": [
       "<Figure size 432x288 with 1 Axes>"
      ]
     },
     "metadata": {},
     "output_type": "display_data"
    }
   ],
   "source": [
    "import matplotlib.pyplot as plt\n",
    "plt.plot(total_gc)\n",
    "off = int(s/float(66.6))\n",
    "\n",
    "if off == 0:\n",
    "    plt.plot(get_averages(offset=0)[0])\n",
    "else:\n",
    "    for o in range(0, window_size, off):\n",
    "        plt.plot(get_averages(offset=o, print_me=True)[0])\n",
    "\n",
    "plt.ylabel('Percentage')\n",
    "plt.xlabel('Window Number')\n",
    "plt.title('GC Percentage')\n",
    "plt.show()"
   ]
  },
  {
   "cell_type": "code",
   "execution_count": null,
   "metadata": {},
   "outputs": [],
   "source": []
  }
 ],
 "metadata": {
  "kernelspec": {
   "display_name": "Python 3",
   "language": "python",
   "name": "python3"
  },
  "language_info": {
   "codemirror_mode": {
    "name": "ipython",
    "version": 3
   },
   "file_extension": ".py",
   "mimetype": "text/x-python",
   "name": "python",
   "nbconvert_exporter": "python",
   "pygments_lexer": "ipython3",
   "version": "3.6.3"
  }
 },
 "nbformat": 4,
 "nbformat_minor": 1
}
